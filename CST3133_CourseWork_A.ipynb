{
  "nbformat": 4,
  "nbformat_minor": 0,
  "metadata": {
    "colab": {
      "provenance": [],
      "toc_visible": true,
      "include_colab_link": true
    },
    "kernelspec": {
      "name": "python3",
      "display_name": "Python 3"
    },
    "language_info": {
      "name": "python"
    }
  },
  "cells": [
    {
      "cell_type": "markdown",
      "metadata": {
        "id": "view-in-github",
        "colab_type": "text"
      },
      "source": [

        "<a href=\"https://colab.research.google.com/github/Mi1kDev/CST3133_CW/blob/petar/CST3133_CourseWork_A.ipynb\" target=\"_parent\"><img src=\"https://colab.research.google.com/assets/colab-badge.svg\" alt=\"Open In Colab\"/></a>"

      ]
    },
    {
      "cell_type": "markdown",
      "source": [
        "# Machine Learning Coursework Part 1\n"
      ],
      "metadata": {
        "id": "6IVsnA2eHj1a"
      }
    },
    {
      "cell_type": "markdown",
      "source": [
        "Connecting the project to google drive for easy members access"
      ],
      "metadata": {
        "id": "zrzn7-lXBnf1"
      }
    },
    {
      "cell_type": "code",
      "execution_count": null,
      "metadata": {
        "id": "vEjoSvTY9XSP",
        "colab": {
          "base_uri": "https://localhost:8080/"
        },
        "outputId": "f4f74b14-1e3b-445d-8fc0-8e57a3db0647"

      },
      "outputs": [
        {
          "output_type": "stream",
          "name": "stdout",
          "text": [
            "Drive already mounted at /content/drive; to attempt to forcibly remount, call drive.mount(\"/content/drive\", force_remount=True).\n"
          ]
        }
      ],
      "source": [
        "from google.colab import drive\n",
        "drive.mount(\"/content/drive\")"
      ]
    },
    {
      "cell_type": "markdown",
      "source": [
        "# 1.1.1 Dataset Selection and Problem Definition"
      ],
      "metadata": {
        "id": "hSxPV2ASHvpy"
      }
    },
    {
      "cell_type": "markdown",
      "source": [
        "-- clustering problem\n",
        "\n",
        "-- database from kaggle link bellow\n",
        "\n",
        "https://www.kaggle.com/code/mervanmunis/bank-transaction-for-fraud-detection-eda-ml\n",
        "\n"
      ],
      "metadata": {
        "id": "OpA4PGSFBtqJ"
      }
    },
    {
      "cell_type": "code",
      "source": [
        "# importing all necessary libraries"
      ],
      "metadata": {
        "id": "Erxwfv6TD0HQ"
      },
      "execution_count": null,
      "outputs": []
    },
    {
      "cell_type": "code",
      "source": [
        "import pandas as pd\n",
        "import numpy as np\n",
        "import matplotlib.pyplot as plt\n",
        "import seaborn as sns\n",
        "\n",
        "dataset = pd.read_csv(\"/content/drive/MyDrive/CST3133_CW/datasets/test.csv\")\n",
        "print(dataset.head())"
      ],
      "metadata": {
        "id": "91DNLg-iA_t1",
        "colab": {
          "base_uri": "https://localhost:8080/"
        },
        "outputId": "b8ec0e3f-3a94-4c1b-9f77-b7e60654aa78"

      },
      "execution_count": null,
      "outputs": [
        {
          "output_type": "stream",
          "name": "stdout",
          "text": [
            "  TransactionID AccountID  TransactionAmount      TransactionDate  \\\n",
            "0      TX000001   AC00128              14.09  2023-04-11 16:29:14   \n",
            "1      TX000002   AC00455             376.24  2023-06-27 16:44:19   \n",
            "2      TX000003   AC00019             126.29  2023-07-10 18:16:08   \n",
            "3      TX000004   AC00070             184.50  2023-05-05 16:32:11   \n",
            "4      TX000005   AC00411              13.45  2023-10-16 17:51:24   \n",
            "\n",
            "  TransactionType   Location DeviceID      IP Address MerchantID Channel  \\\n",
            "0           Debit  San Diego  D000380  162.198.218.92       M015     ATM   \n",
            "1           Debit    Houston  D000051     13.149.61.4       M052     ATM   \n",
            "2           Debit       Mesa  D000235  215.97.143.157       M009  Online   \n",
            "3           Debit    Raleigh  D000187  200.13.225.150       M002  Online   \n",
            "4          Credit    Atlanta  D000308    65.164.3.100       M091  Online   \n",
            "\n",
            "   CustomerAge CustomerOccupation  TransactionDuration  LoginAttempts  \\\n",
            "0           70             Doctor                   81              1   \n",
            "1           68             Doctor                  141              1   \n",
            "2           19            Student                   56              1   \n",
            "3           26            Student                   25              1   \n",
            "4           26            Student                  198              1   \n",
            "\n",
            "   AccountBalance PreviousTransactionDate  \n",
            "0         5112.21     2024-11-04 08:08:08  \n",
            "1        13758.91     2024-11-04 08:09:35  \n",
            "2         1122.35     2024-11-04 08:07:04  \n",
            "3         8569.06     2024-11-04 08:09:06  \n",
            "4         7429.40     2024-11-04 08:06:39  \n"
          ]
        }
      ]
    },
    {
      "cell_type": "code",
      "source": [
        "print(dataset.describe())"
      ],
      "metadata": {
        "colab": {
          "base_uri": "https://localhost:8080/"
        },
        "id": "UXULoBJr-UV4",

        "outputId": "ea712086-8d88-491a-8f8a-ae4d88c288e7"

      },
      "execution_count": null,
      "outputs": [
        {
          "output_type": "stream",
          "name": "stdout",
          "text": [
            "       TransactionAmount  CustomerAge  TransactionDuration  LoginAttempts  \\\n",
            "count        2512.000000  2512.000000          2512.000000    2512.000000   \n",
            "mean          297.593778    44.673965           119.643312       1.124602   \n",
            "std           291.946243    17.792198            69.963757       0.602662   \n",
            "min             0.260000    18.000000            10.000000       1.000000   \n",
            "25%            81.885000    27.000000            63.000000       1.000000   \n",
            "50%           211.140000    45.000000           112.500000       1.000000   \n",
            "75%           414.527500    59.000000           161.000000       1.000000   \n",
            "max          1919.110000    80.000000           300.000000       5.000000   \n",
            "\n",
            "       AccountBalance  \n",
            "count     2512.000000  \n",
            "mean      5114.302966  \n",
            "std       3900.942499  \n",
            "min        101.250000  \n",
            "25%       1504.370000  \n",
            "50%       4735.510000  \n",
            "75%       7678.820000  \n",
            "max      14977.990000  \n"
          ]
        }
      ]
    },
    {
      "cell_type": "code",
      "source": [
        "print(dataset.info())"
      ],
      "metadata": {
        "colab": {
          "base_uri": "https://localhost:8080/"
        },
        "id": "rYrPRFviC9O4",

        "outputId": "4d04e691-83f2-472e-a372-c3d082613e58"

      },
      "execution_count": null,
      "outputs": [
        {
          "output_type": "stream",
          "name": "stdout",
          "text": [
            "<class 'pandas.core.frame.DataFrame'>\n",
            "RangeIndex: 2512 entries, 0 to 2511\n",
            "Data columns (total 16 columns):\n",
            " #   Column                   Non-Null Count  Dtype  \n",
            "---  ------                   --------------  -----  \n",
            " 0   TransactionID            2512 non-null   object \n",
            " 1   AccountID                2512 non-null   object \n",
            " 2   TransactionAmount        2512 non-null   float64\n",
            " 3   TransactionDate          2512 non-null   object \n",
            " 4   TransactionType          2512 non-null   object \n",
            " 5   Location                 2512 non-null   object \n",
            " 6   DeviceID                 2512 non-null   object \n",
            " 7   IP Address               2512 non-null   object \n",
            " 8   MerchantID               2512 non-null   object \n",
            " 9   Channel                  2512 non-null   object \n",
            " 10  CustomerAge              2512 non-null   int64  \n",
            " 11  CustomerOccupation       2512 non-null   object \n",
            " 12  TransactionDuration      2512 non-null   int64  \n",
            " 13  LoginAttempts            2512 non-null   int64  \n",
            " 14  AccountBalance           2512 non-null   float64\n",
            " 15  PreviousTransactionDate  2512 non-null   object \n",
            "dtypes: float64(2), int64(3), object(11)\n",
            "memory usage: 314.1+ KB\n",
            "None\n"
          ]
        }
      ]
    },
    {
      "cell_type": "markdown",
      "source": [
        "# 1.1.2 Data Preprocessing"
      ],
      "metadata": {
        "id": "kzkJ88N_Hz9T"
      }
    },
    {
      "cell_type": "markdown",
      "source": [
        "Handle missing values appropriately, as required.\n",
        "\n",
        "Scale/normalize numerical features and encode categorical variable, as required.\n",
        "\n",
        "Conduct logical feature selection or engineering, as required."
      ],
      "metadata": {
        "id": "063tP3LvD7Vm"
      }
    },
    {
      "cell_type": "code",
      "source": [
        "# Checking for missing values\n",
        "missing_values = [\"n/a\", \"na\", \"--\"]\n",
        "print(dataset.isnull().sum())\n",
        "print(dataset.isnull().sum().sum())"
      ],
      "metadata": {
        "colab": {
          "base_uri": "https://localhost:8080/"
        },
        "id": "5U5Y6MOG_5zJ",

        "outputId": "c783b6e5-c328-44e2-dba1-524e36fd9b0d"

      },
      "execution_count": null,
      "outputs": [
        {
          "output_type": "stream",
          "name": "stdout",
          "text": [
            "TransactionID              0\n",
            "AccountID                  0\n",
            "TransactionAmount          0\n",
            "TransactionDate            0\n",
            "TransactionType            0\n",
            "Location                   0\n",
            "DeviceID                   0\n",
            "IP Address                 0\n",
            "MerchantID                 0\n",
            "Channel                    0\n",
            "CustomerAge                0\n",
            "CustomerOccupation         0\n",
            "TransactionDuration        0\n",
            "LoginAttempts              0\n",
            "AccountBalance             0\n",
            "PreviousTransactionDate    0\n",
            "dtype: int64\n",
            "0\n"
          ]
        }
      ]
    },
    {
      "cell_type": "code",
      "source": [
        "#Normalization of data using min-max feature scaling\n",
        "dataset['NormalizedTransactionAmount'] = (dataset['TransactionAmount'] - dataset['TransactionAmount'].min()) / (dataset['TransactionAmount'].max() - dataset['TransactionAmount'].min())\n",
        "dataset['NormalizedAccountBalance'] = (dataset['AccountBalance'] - dataset['AccountBalance'].min()) / (dataset['AccountBalance'].max() - dataset['AccountBalance'].min())\n",
        "dataset['NormalizedTransactionDuration'] = (dataset['TransactionDuration'] - dataset['TransactionDuration'].min()) / (dataset['TransactionDuration'].max() - dataset['TransactionDuration'].min())\n",
        "dataset['NormalizedCustomerAge'] = (dataset['CustomerAge'] - dataset['CustomerAge'].min()) / (dataset['CustomerAge'].max() - dataset['CustomerAge'].min())\n",
        "dataset['NormalizedLoginAttempts'] = (dataset['LoginAttempts'] - dataset['LoginAttempts'].min()) / (dataset['CustomerAge'].max() - dataset['CustomerAge'].min())"
      ],
      "metadata": {
        "id": "enqg-G4dJiX_",
        "colab": {
          "base_uri": "https://localhost:8080/",
          "height": 458
        },
        "outputId": "e4e5f609-c7e0-4e4d-bb9d-4a0eca2acb23"
      },
      "execution_count": null,
      "outputs": [
        {
          "output_type": "execute_result",
          "data": {
            "text/plain": [
              "0       0.244828\n",
              "1       0.451724\n",
              "2       0.158621\n",
              "3       0.051724\n",
              "4       0.648276\n",
              "          ...   \n",
              "2507    0.341379\n",
              "2508    0.575862\n",
              "2509    0.468966\n",
              "2510    0.031034\n",
              "2511    0.286207\n",
              "Name: NormalizedTransactionDuration, Length: 2512, dtype: float64"
            ],
            "text/html": [
              "<div>\n",
              "<style scoped>\n",
              "    .dataframe tbody tr th:only-of-type {\n",
              "        vertical-align: middle;\n",
              "    }\n",
              "\n",
              "    .dataframe tbody tr th {\n",
              "        vertical-align: top;\n",
              "    }\n",
              "\n",
              "    .dataframe thead th {\n",
              "        text-align: right;\n",
              "    }\n",
              "</style>\n",
              "<table border=\"1\" class=\"dataframe\">\n",
              "  <thead>\n",
              "    <tr style=\"text-align: right;\">\n",
              "      <th></th>\n",
              "      <th>NormalizedTransactionDuration</th>\n",
              "    </tr>\n",
              "  </thead>\n",
              "  <tbody>\n",
              "    <tr>\n",
              "      <th>0</th>\n",
              "      <td>0.244828</td>\n",
              "    </tr>\n",
              "    <tr>\n",
              "      <th>1</th>\n",
              "      <td>0.451724</td>\n",
              "    </tr>\n",
              "    <tr>\n",
              "      <th>2</th>\n",
              "      <td>0.158621</td>\n",
              "    </tr>\n",
              "    <tr>\n",
              "      <th>3</th>\n",
              "      <td>0.051724</td>\n",
              "    </tr>\n",
              "    <tr>\n",
              "      <th>4</th>\n",
              "      <td>0.648276</td>\n",
              "    </tr>\n",
              "    <tr>\n",
              "      <th>...</th>\n",
              "      <td>...</td>\n",
              "    </tr>\n",
              "    <tr>\n",
              "      <th>2507</th>\n",
              "      <td>0.341379</td>\n",
              "    </tr>\n",
              "    <tr>\n",
              "      <th>2508</th>\n",
              "      <td>0.575862</td>\n",
              "    </tr>\n",
              "    <tr>\n",
              "      <th>2509</th>\n",
              "      <td>0.468966</td>\n",
              "    </tr>\n",
              "    <tr>\n",
              "      <th>2510</th>\n",
              "      <td>0.031034</td>\n",
              "    </tr>\n",
              "    <tr>\n",
              "      <th>2511</th>\n",
              "      <td>0.286207</td>\n",
              "    </tr>\n",
              "  </tbody>\n",
              "</table>\n",
              "<p>2512 rows × 1 columns</p>\n",
              "</div><br><label><b>dtype:</b> float64</label>"
            ]
          },
          "metadata": {},
          "execution_count": 12
        }
      ]
    },
    {
      "cell_type": "markdown",
      "source": [
        "# 1.1.3 Exploratory Data Analysis"
      ],
      "metadata": {
        "id": "EpLN5BZyH7-1"
      }
    },
    {
      "cell_type": "markdown",
      "source": [
        "Create insightful visualizations, e.g., histograms and correlation heatmaps.\n",
        "\n",
        "Identify and comment on trends, patterns, and potential biases in the data."
      ],
      "metadata": {
        "id": "GrNymFxdEqRU"
      }
    },
    {
      "cell_type": "code",
      "source": [
        "# Histploting and Correlation Heatmaps implementation\n",
        "# Selecting only numerical values for correlation analysis\n",
        "ds_numerical_drop = dataset.drop(['NormalizedTransactionAmount', 'NormalizedAccountBalance'], axis=1)\n",
        "corr_matrix = ds_numerical_drop.select_dtypes(include=[np.number]).corr()\n",
        "\n",
        "sns.heatmap(corr_matrix, annot=True, cmap='coolwarm')\n",
        "plt.title('Correlation Heatmap')\n",
        "plt.show()"
      ],
      "metadata": {
        "id": "ykMthQEAHPwy",
        "colab": {
          "base_uri": "https://localhost:8080/",
          "height": 578
        },
        "outputId": "f6db6638-ed7a-4a3b-eba7-c154f8f6b646"
      },
      "execution_count": null,
      "outputs": [
        {
          "output_type": "display_data",
          "data": {
            "text/plain": [
              "<Figure size 640x480 with 2 Axes>"
            ],
            "image/png": "[encoded data removed]"
          },
          "metadata": {}
        }
      ]
    },
    {
      "cell_type": "markdown",
      "source": [
        "# Trends and Patterns"
      ],
      "metadata": {
        "id": "yeyXowctc9aA"
      }
    },
    {
      "cell_type": "markdown",
      "source": [
        "We have a strong positive correlation with CustomerAge and AccountBalance as shown on Heatmap, which means depends on the customer age, the account balance could grow."
      ],
      "metadata": {
        "id": "lDJriT7oXfDM"
      }
    },
    {
      "cell_type": "markdown",
      "source": [
        "# Potential Biases"
      ],
      "metadata": {
        "id": "NhdDAPUNdDL5"
      }
    },
    {
      "cell_type": "markdown",
      "source": [
        "Age bias which could appear beacuse of the strong correlation which we occure between Customer Age and Account Balance."
      ],
      "metadata": {
        "id": "QC_LAC7adI7y"
      }
    },
    {
      "cell_type": "markdown",
      "source": [
        "# 1.1.4 Model Development and Evaluation"
      ],
      "metadata": {
        "id": "DYG-6LdYLM2X"
      }
    },
    {
      "cell_type": "markdown",
      "source": [
        "Train and evaluate learning models, e.g., supervised: linear regression, decision trees, and unsupervised: K-means.\n",
        "\n",
        "Use appropriate evaluation metrics, e.g., R-squared, accuracy, precision, recall, F1-score, etc.\n",
        "\n",
        "Provide a clear interpretation of the model performance using classification report, tables or graphs."
      ],
      "metadata": {
        "id": "gkA-J9pjLVLV"
      }
    },
    {
      "cell_type": "code",
      "source": [
        "from sklearn.model_selection import train_test_split\n",
        "from sklearn.linear_model import LinearRegression\n",
        "from sklearn.tree import DecisionTreeRegressor\n",
        "from sklearn.cluster import KMeans\n",
        "from sklearn.metrics import r2_score, accuracy_score, precision_score, recall_score, f1_score\n",
        "from sklearn.metrics import classification_report, confusion_matrix"
      ],
      "metadata": {
        "id": "5hh7aTdGVxqo"
      },
      "execution_count": null,
      "outputs": []
    },
    {
      "cell_type": "code",
      "source": [
        "x = dataset[['NormalizedTransactionAmount', 'NormalizedAccountBalance', 'NormalizedTransactionDuration']]\n",
        "y = dataset['NormalizedFraudulentTransaction']"
      ],
      "metadata": {
        "id": "lnAGdbc8ZJ2A",
        "outputId": "b61e2473-8152-45bf-f19b-644d5ec76cdc",
        "colab": {
          "base_uri": "https://localhost:8080/",
          "height": 617
        }
      },
      "execution_count": null,
      "outputs": [
        {
          "output_type": "error",
          "ename": "KeyError",
          "evalue": "'NormalizedFraudulentTransaction'",
          "traceback": [
            "\u001b[0;31m---------------------------------------------------------------------------\u001b[0m",
            "\u001b[0;31mKeyError\u001b[0m                                  Traceback (most recent call last)",
            "\u001b[0;32m/usr/local/lib/python3.11/dist-packages/pandas/core/indexes/base.py\u001b[0m in \u001b[0;36mget_loc\u001b[0;34m(self, key)\u001b[0m\n\u001b[1;32m   3804\u001b[0m         \u001b[0;32mtry\u001b[0m\u001b[0;34m:\u001b[0m\u001b[0;34m\u001b[0m\u001b[0;34m\u001b[0m\u001b[0m\n\u001b[0;32m-> 3805\u001b[0;31m             \u001b[0;32mreturn\u001b[0m \u001b[0mself\u001b[0m\u001b[0;34m.\u001b[0m\u001b[0m_engine\u001b[0m\u001b[0;34m.\u001b[0m\u001b[0mget_loc\u001b[0m\u001b[0;34m(\u001b[0m\u001b[0mcasted_key\u001b[0m\u001b[0;34m)\u001b[0m\u001b[0;34m\u001b[0m\u001b[0;34m\u001b[0m\u001b[0m\n\u001b[0m\u001b[1;32m   3806\u001b[0m         \u001b[0;32mexcept\u001b[0m \u001b[0mKeyError\u001b[0m \u001b[0;32mas\u001b[0m \u001b[0merr\u001b[0m\u001b[0;34m:\u001b[0m\u001b[0;34m\u001b[0m\u001b[0;34m\u001b[0m\u001b[0m\n",
            "\u001b[0;32mindex.pyx\u001b[0m in \u001b[0;36mpandas._libs.index.IndexEngine.get_loc\u001b[0;34m()\u001b[0m\n",
            "\u001b[0;32mindex.pyx\u001b[0m in \u001b[0;36mpandas._libs.index.IndexEngine.get_loc\u001b[0;34m()\u001b[0m\n",
            "\u001b[0;32mpandas/_libs/hashtable_class_helper.pxi\u001b[0m in \u001b[0;36mpandas._libs.hashtable.PyObjectHashTable.get_item\u001b[0;34m()\u001b[0m\n",
            "\u001b[0;32mpandas/_libs/hashtable_class_helper.pxi\u001b[0m in \u001b[0;36mpandas._libs.hashtable.PyObjectHashTable.get_item\u001b[0;34m()\u001b[0m\n",
            "\u001b[0;31mKeyError\u001b[0m: 'NormalizedFraudulentTransaction'",
            "\nThe above exception was the direct cause of the following exception:\n",
            "\u001b[0;31mKeyError\u001b[0m                                  Traceback (most recent call last)",
            "\u001b[0;32m<ipython-input-16-35f89aaeb93c>\u001b[0m in \u001b[0;36m<cell line: 0>\u001b[0;34m()\u001b[0m\n\u001b[1;32m      1\u001b[0m \u001b[0mx\u001b[0m \u001b[0;34m=\u001b[0m \u001b[0mdataset\u001b[0m\u001b[0;34m[\u001b[0m\u001b[0;34m[\u001b[0m\u001b[0;34m'NormalizedTransactionAmount'\u001b[0m\u001b[0;34m,\u001b[0m \u001b[0;34m'NormalizedAccountBalance'\u001b[0m\u001b[0;34m,\u001b[0m \u001b[0;34m'NormalizedTransactionDuration'\u001b[0m\u001b[0;34m]\u001b[0m\u001b[0;34m]\u001b[0m\u001b[0;34m\u001b[0m\u001b[0;34m\u001b[0m\u001b[0m\n\u001b[0;32m----> 2\u001b[0;31m \u001b[0my\u001b[0m \u001b[0;34m=\u001b[0m \u001b[0mdataset\u001b[0m\u001b[0;34m[\u001b[0m\u001b[0;34m'NormalizedFraudulentTransaction'\u001b[0m\u001b[0;34m]\u001b[0m\u001b[0;34m\u001b[0m\u001b[0;34m\u001b[0m\u001b[0m\n\u001b[0m",
            "\u001b[0;32m/usr/local/lib/python3.11/dist-packages/pandas/core/frame.py\u001b[0m in \u001b[0;36m__getitem__\u001b[0;34m(self, key)\u001b[0m\n\u001b[1;32m   4100\u001b[0m             \u001b[0;32mif\u001b[0m \u001b[0mself\u001b[0m\u001b[0;34m.\u001b[0m\u001b[0mcolumns\u001b[0m\u001b[0;34m.\u001b[0m\u001b[0mnlevels\u001b[0m \u001b[0;34m>\u001b[0m \u001b[0;36m1\u001b[0m\u001b[0;34m:\u001b[0m\u001b[0;34m\u001b[0m\u001b[0;34m\u001b[0m\u001b[0m\n\u001b[1;32m   4101\u001b[0m                 \u001b[0;32mreturn\u001b[0m \u001b[0mself\u001b[0m\u001b[0;34m.\u001b[0m\u001b[0m_getitem_multilevel\u001b[0m\u001b[0;34m(\u001b[0m\u001b[0mkey\u001b[0m\u001b[0;34m)\u001b[0m\u001b[0;34m\u001b[0m\u001b[0;34m\u001b[0m\u001b[0m\n\u001b[0;32m-> 4102\u001b[0;31m             \u001b[0mindexer\u001b[0m \u001b[0;34m=\u001b[0m \u001b[0mself\u001b[0m\u001b[0;34m.\u001b[0m\u001b[0mcolumns\u001b[0m\u001b[0;34m.\u001b[0m\u001b[0mget_loc\u001b[0m\u001b[0;34m(\u001b[0m\u001b[0mkey\u001b[0m\u001b[0;34m)\u001b[0m\u001b[0;34m\u001b[0m\u001b[0;34m\u001b[0m\u001b[0m\n\u001b[0m\u001b[1;32m   4103\u001b[0m             \u001b[0;32mif\u001b[0m \u001b[0mis_integer\u001b[0m\u001b[0;34m(\u001b[0m\u001b[0mindexer\u001b[0m\u001b[0;34m)\u001b[0m\u001b[0;34m:\u001b[0m\u001b[0;34m\u001b[0m\u001b[0;34m\u001b[0m\u001b[0m\n\u001b[1;32m   4104\u001b[0m                 \u001b[0mindexer\u001b[0m \u001b[0;34m=\u001b[0m \u001b[0;34m[\u001b[0m\u001b[0mindexer\u001b[0m\u001b[0;34m]\u001b[0m\u001b[0;34m\u001b[0m\u001b[0;34m\u001b[0m\u001b[0m\n",
            "\u001b[0;32m/usr/local/lib/python3.11/dist-packages/pandas/core/indexes/base.py\u001b[0m in \u001b[0;36mget_loc\u001b[0;34m(self, key)\u001b[0m\n\u001b[1;32m   3810\u001b[0m             ):\n\u001b[1;32m   3811\u001b[0m                 \u001b[0;32mraise\u001b[0m \u001b[0mInvalidIndexError\u001b[0m\u001b[0;34m(\u001b[0m\u001b[0mkey\u001b[0m\u001b[0;34m)\u001b[0m\u001b[0;34m\u001b[0m\u001b[0;34m\u001b[0m\u001b[0m\n\u001b[0;32m-> 3812\u001b[0;31m             \u001b[0;32mraise\u001b[0m \u001b[0mKeyError\u001b[0m\u001b[0;34m(\u001b[0m\u001b[0mkey\u001b[0m\u001b[0;34m)\u001b[0m \u001b[0;32mfrom\u001b[0m \u001b[0merr\u001b[0m\u001b[0;34m\u001b[0m\u001b[0;34m\u001b[0m\u001b[0m\n\u001b[0m\u001b[1;32m   3813\u001b[0m         \u001b[0;32mexcept\u001b[0m \u001b[0mTypeError\u001b[0m\u001b[0;34m:\u001b[0m\u001b[0;34m\u001b[0m\u001b[0;34m\u001b[0m\u001b[0m\n\u001b[1;32m   3814\u001b[0m             \u001b[0;31m# If we have a listlike key, _check_indexing_error will raise\u001b[0m\u001b[0;34m\u001b[0m\u001b[0;34m\u001b[0m\u001b[0m\n",
            "\u001b[0;31mKeyError\u001b[0m: 'NormalizedFraudulentTransaction'"
          ]
        }
      ]
    },
    {
      "cell_type": "markdown",
      "source": [
        "# 1.1.5 Ethical Considerations\n"
      ],
      "metadata": {
        "id": "JWHbWV6lLfHV"
      }
    },
    {
      "cell_type": "markdown",
      "source": [
        "Highlight potential biases or fairness issues in the dataset or models.\n",
        "\n",
        "Suggest practical strategies for mitigating these ethical challenges."
      ],
      "metadata": {
        "id": "HOriwnFhLjYB"
      }
    },
    {
      "cell_type": "markdown",
      "source": [
        "# Natural Language Processing and Deep Learning Coursework Part 2"
      ],
      "metadata": {
        "id": "F-HIn4BLNAqo"
      }
    },
    {
      "cell_type": "markdown",
      "source": [
        "# 1.2.1 Text Dataset Selection and Preprocessing\n"
      ],
      "metadata": {
        "id": "3ownGeUiNMcF"
      }
    },
    {
      "cell_type": "markdown",
      "source": [
        "Select a publicly available text dataset, for example, IMDb reviews, Amazon product reviews, AG News, depending\n",
        "on what you want to achieve.\n",
        "\n",
        "Preprocess the dataset, for example, clean text, tokenize, remove stopwords, etc.\n",
        "\n",
        "Use pre-trained embeddings, e.g., GloVe, Word2Vec for feature representation."
      ],
      "metadata": {
        "id": "gy9nb5GwNLjR"
      }
    },
    {
      "cell_type": "markdown",
      "source": [
        "# 1.2.2 Deep Learning Model Implementation\n"
      ],
      "metadata": {
        "id": "eYOXJBR-NdDw"
      }
    },
    {
      "cell_type": "markdown",
      "source": [
        "Design and train a neural network, e.g., RNN, LSTM for a text-based task, e.g., sentiment analysis.\n",
        "\n",
        "Clearly explain the model architecture, e.g., embedding layers, hidden layers, activation functions, and\n",
        "hyperparameter tuning"
      ],
      "metadata": {
        "id": "ajR3zF_gNj0d"
      }
    },
    {
      "cell_type": "markdown",
      "source": [
        "# 1.2.3 Evaluation and Insights\n"
      ],
      "metadata": {
        "id": "vj6hyFMQNpnp"
      }
    },
    {
      "cell_type": "markdown",
      "source": [
        "Use evaluation metrics, e.g., accuracy, precision, recall, loss curves.\n",
        "\n",
        "Provide visualizations, e.g., learning curves, confusion matrices, to explain findings, where possible.\n",
        "\n",
        "Highlight strengths, limitations and areas for improvement."
      ],
      "metadata": {
        "id": "YHypWZouNth9"
      }
    }
  ]
}